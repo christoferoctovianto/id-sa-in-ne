{
 "cells": [
  {
   "cell_type": "code",
   "execution_count": 1,
   "id": "2ba56be7",
   "metadata": {},
   "outputs": [],
   "source": [
    "## Choose GPU to be used in the environment\n",
    "import os\n",
    "os.environ['CUDA_VISIBLE_DEVICES'] = '1'\n",
    "os.environ[\"TOKENIZERS_PARALLELISM\"] = \"false\""
   ]
  },
  {
   "cell_type": "code",
   "execution_count": 2,
   "id": "bd097d03",
   "metadata": {},
   "outputs": [],
   "source": [
    "## Import library\n",
    "from simpletransformers.classification import ClassificationModel, ClassificationArgs\n",
    "import pandas as pd\n",
    "import numpy as np\n",
    "from sklearn.preprocessing import LabelEncoder\n",
    "import logging\n",
    "import matplotlib.pyplot as plt\n",
    "import seaborn as sns\n",
    "from sklearn.metrics import f1_score, accuracy_score, precision_score, recall_score, confusion_matrix, ConfusionMatrixDisplay, classification_report\n",
    "from scipy.special import softmax"
   ]
  },
  {
   "cell_type": "code",
   "execution_count": 3,
   "id": "775439b5",
   "metadata": {},
   "outputs": [],
   "source": [
    "## Load experiment dataset\n",
    "train = pd.read_csv(r'christoferoctovianto/id-sa-in-ne/masked_dataset/dataset_experiment/masked_env_id_train.xlsx')\n",
    "train_data = train[['text_clean','label']].copy()\n",
    "train_data.columns = ['text', 'labels']\n",
    "validation = pd.read_csv(r'christoferoctovianto/id-sa-in-ne/masked_dataset/dataset_experiment/masked_env_id_valid.xlsx')\n",
    "validation_data = validation[['text_clean','label']].copy()\n",
    "validation_data.columns = ['text', 'labels']\n",
    "test = pd.read_csv(r'christoferoctovianto/id-sa-in-ne/masked_dataset/dataset_experiment/masked_env_id_test.xlsx')\n",
    "test_data = test[['text_clean','label']].copy()\n",
    "test_data.columns = ['text', 'labels']"
   ]
  },
  {
   "cell_type": "code",
   "execution_count": 4,
   "id": "fa10086f",
   "metadata": {},
   "outputs": [
    {
     "name": "stdout",
     "output_type": "stream",
     "text": [
      "train data:\n"
     ]
    },
    {
     "data": {
      "text/html": [
       "<div>\n",
       "<style scoped>\n",
       "    .dataframe tbody tr th:only-of-type {\n",
       "        vertical-align: middle;\n",
       "    }\n",
       "\n",
       "    .dataframe tbody tr th {\n",
       "        vertical-align: top;\n",
       "    }\n",
       "\n",
       "    .dataframe thead th {\n",
       "        text-align: right;\n",
       "    }\n",
       "</style>\n",
       "<table border=\"1\" class=\"dataframe\">\n",
       "  <thead>\n",
       "    <tr style=\"text-align: right;\">\n",
       "      <th></th>\n",
       "      <th>text</th>\n",
       "      <th>labels</th>\n",
       "    </tr>\n",
       "  </thead>\n",
       "  <tbody>\n",
       "    <tr>\n",
       "      <th>0</th>\n",
       "      <td>masyarakat di jakabaring pagi ini jumat 16 4 2...</td>\n",
       "      <td>POSITIVE</td>\n",
       "    </tr>\n",
       "    <tr>\n",
       "      <th>1</th>\n",
       "      <td>mini class pengenalan proyek blue carbon meman...</td>\n",
       "      <td>NEUTRAL</td>\n",
       "    </tr>\n",
       "    <tr>\n",
       "      <th>2</th>\n",
       "      <td>bapak batam apresiasi beroperasinya perusahaan...</td>\n",
       "      <td>POSITIVE</td>\n",
       "    </tr>\n",
       "    <tr>\n",
       "      <th>3</th>\n",
       "      <td>detikers merasa tidak sih kalau kualitas udara...</td>\n",
       "      <td>NEGATIVE</td>\n",
       "    </tr>\n",
       "    <tr>\n",
       "      <th>4</th>\n",
       "      <td>hai sobat envira bank dunia menganggap indones...</td>\n",
       "      <td>POSITIVE</td>\n",
       "    </tr>\n",
       "    <tr>\n",
       "      <th>...</th>\n",
       "      <td>...</td>\n",
       "      <td>...</td>\n",
       "    </tr>\n",
       "    <tr>\n",
       "      <th>1524</th>\n",
       "      <td>kisah dari reaktor chernobyl letupan reaktor n...</td>\n",
       "      <td>NEGATIVE</td>\n",
       "    </tr>\n",
       "    <tr>\n",
       "      <th>1525</th>\n",
       "      <td>ayo belajar mendaur ulang sampah demi masa dep...</td>\n",
       "      <td>POSITIVE</td>\n",
       "    </tr>\n",
       "    <tr>\n",
       "      <th>1526</th>\n",
       "      <td>polusi udara umumnya terjadi karena faktor ala...</td>\n",
       "      <td>POSITIVE</td>\n",
       "    </tr>\n",
       "    <tr>\n",
       "      <th>1527</th>\n",
       "      <td>polusi udara telah menjadi masalah yang semaki...</td>\n",
       "      <td>NEGATIVE</td>\n",
       "    </tr>\n",
       "    <tr>\n",
       "      <th>1528</th>\n",
       "      <td>bahaya bahayaa udara kotor mengandung partikel...</td>\n",
       "      <td>NEGATIVE</td>\n",
       "    </tr>\n",
       "  </tbody>\n",
       "</table>\n",
       "<p>1529 rows × 2 columns</p>\n",
       "</div>"
      ],
      "text/plain": [
       "                                                   text    labels\n",
       "0     masyarakat di jakabaring pagi ini jumat 16 4 2...  POSITIVE\n",
       "1     mini class pengenalan proyek blue carbon meman...   NEUTRAL\n",
       "2     bapak batam apresiasi beroperasinya perusahaan...  POSITIVE\n",
       "3     detikers merasa tidak sih kalau kualitas udara...  NEGATIVE\n",
       "4     hai sobat envira bank dunia menganggap indones...  POSITIVE\n",
       "...                                                 ...       ...\n",
       "1524  kisah dari reaktor chernobyl letupan reaktor n...  NEGATIVE\n",
       "1525  ayo belajar mendaur ulang sampah demi masa dep...  POSITIVE\n",
       "1526  polusi udara umumnya terjadi karena faktor ala...  POSITIVE\n",
       "1527  polusi udara telah menjadi masalah yang semaki...  NEGATIVE\n",
       "1528  bahaya bahayaa udara kotor mengandung partikel...  NEGATIVE\n",
       "\n",
       "[1529 rows x 2 columns]"
      ]
     },
     "metadata": {},
     "output_type": "display_data"
    },
    {
     "name": "stdout",
     "output_type": "stream",
     "text": [
      "\n",
      "validation data:\n"
     ]
    },
    {
     "data": {
      "text/html": [
       "<div>\n",
       "<style scoped>\n",
       "    .dataframe tbody tr th:only-of-type {\n",
       "        vertical-align: middle;\n",
       "    }\n",
       "\n",
       "    .dataframe tbody tr th {\n",
       "        vertical-align: top;\n",
       "    }\n",
       "\n",
       "    .dataframe thead th {\n",
       "        text-align: right;\n",
       "    }\n",
       "</style>\n",
       "<table border=\"1\" class=\"dataframe\">\n",
       "  <thead>\n",
       "    <tr style=\"text-align: right;\">\n",
       "      <th></th>\n",
       "      <th>text</th>\n",
       "      <th>labels</th>\n",
       "    </tr>\n",
       "  </thead>\n",
       "  <tbody>\n",
       "    <tr>\n",
       "      <th>0</th>\n",
       "      <td>halo orang muda apa saja sih dampak dari krisi...</td>\n",
       "      <td>NEUTRAL</td>\n",
       "    </tr>\n",
       "    <tr>\n",
       "      <th>1</th>\n",
       "      <td>bumi telah menanggung beban sampah yang sangat...</td>\n",
       "      <td>NEGATIVE</td>\n",
       "    </tr>\n",
       "    <tr>\n",
       "      <th>2</th>\n",
       "      <td>kualitas udara yang tidak sehat di jakarta dan...</td>\n",
       "      <td>NEGATIVE</td>\n",
       "    </tr>\n",
       "    <tr>\n",
       "      <th>3</th>\n",
       "      <td>tidak terasa makin menambah banyak mencoba men...</td>\n",
       "      <td>POSITIVE</td>\n",
       "    </tr>\n",
       "    <tr>\n",
       "      <th>4</th>\n",
       "      <td>pencemaran udara adalah kehadiran satu atau le...</td>\n",
       "      <td>NEGATIVE</td>\n",
       "    </tr>\n",
       "    <tr>\n",
       "      <th>...</th>\n",
       "      <td>...</td>\n",
       "      <td>...</td>\n",
       "    </tr>\n",
       "    <tr>\n",
       "      <th>378</th>\n",
       "      <td>fakta menarik sampah masker masyarakat masker ...</td>\n",
       "      <td>POSITIVE</td>\n",
       "    </tr>\n",
       "    <tr>\n",
       "      <th>379</th>\n",
       "      <td>repost from penandaan logo ekolabel pada produ...</td>\n",
       "      <td>POSITIVE</td>\n",
       "    </tr>\n",
       "    <tr>\n",
       "      <th>380</th>\n",
       "      <td>jika ekosistem laut terancam perubahan iklim e...</td>\n",
       "      <td>NEGATIVE</td>\n",
       "    </tr>\n",
       "    <tr>\n",
       "      <th>381</th>\n",
       "      <td>masalah sampah tentu menjadi masalah bersama y...</td>\n",
       "      <td>POSITIVE</td>\n",
       "    </tr>\n",
       "    <tr>\n",
       "      <th>382</th>\n",
       "      <td>sedangkan ketersediaannya semakin menipis hing...</td>\n",
       "      <td>NEGATIVE</td>\n",
       "    </tr>\n",
       "  </tbody>\n",
       "</table>\n",
       "<p>383 rows × 2 columns</p>\n",
       "</div>"
      ],
      "text/plain": [
       "                                                  text    labels\n",
       "0    halo orang muda apa saja sih dampak dari krisi...   NEUTRAL\n",
       "1    bumi telah menanggung beban sampah yang sangat...  NEGATIVE\n",
       "2    kualitas udara yang tidak sehat di jakarta dan...  NEGATIVE\n",
       "3    tidak terasa makin menambah banyak mencoba men...  POSITIVE\n",
       "4    pencemaran udara adalah kehadiran satu atau le...  NEGATIVE\n",
       "..                                                 ...       ...\n",
       "378  fakta menarik sampah masker masyarakat masker ...  POSITIVE\n",
       "379  repost from penandaan logo ekolabel pada produ...  POSITIVE\n",
       "380  jika ekosistem laut terancam perubahan iklim e...  NEGATIVE\n",
       "381  masalah sampah tentu menjadi masalah bersama y...  POSITIVE\n",
       "382  sedangkan ketersediaannya semakin menipis hing...  NEGATIVE\n",
       "\n",
       "[383 rows x 2 columns]"
      ]
     },
     "metadata": {},
     "output_type": "display_data"
    },
    {
     "name": "stdout",
     "output_type": "stream",
     "text": [
      "\n",
      "testing data:\n"
     ]
    },
    {
     "data": {
      "text/html": [
       "<div>\n",
       "<style scoped>\n",
       "    .dataframe tbody tr th:only-of-type {\n",
       "        vertical-align: middle;\n",
       "    }\n",
       "\n",
       "    .dataframe tbody tr th {\n",
       "        vertical-align: top;\n",
       "    }\n",
       "\n",
       "    .dataframe thead th {\n",
       "        text-align: right;\n",
       "    }\n",
       "</style>\n",
       "<table border=\"1\" class=\"dataframe\">\n",
       "  <thead>\n",
       "    <tr style=\"text-align: right;\">\n",
       "      <th></th>\n",
       "      <th>text</th>\n",
       "      <th>labels</th>\n",
       "    </tr>\n",
       "  </thead>\n",
       "  <tbody>\n",
       "    <tr>\n",
       "      <th>0</th>\n",
       "      <td>selamat hari bumi internasional mari kita berk...</td>\n",
       "      <td>POSITIVE</td>\n",
       "    </tr>\n",
       "    <tr>\n",
       "      <th>1</th>\n",
       "      <td>kapan lagi nih dengan hanya memilah sampah bis...</td>\n",
       "      <td>POSITIVE</td>\n",
       "    </tr>\n",
       "    <tr>\n",
       "      <th>2</th>\n",
       "      <td>warga jakarta bagaimana testimoninya coba kome...</td>\n",
       "      <td>NEUTRAL</td>\n",
       "    </tr>\n",
       "    <tr>\n",
       "      <th>3</th>\n",
       "      <td>hari lingkungan hidup sedunia ini sebagai mome...</td>\n",
       "      <td>POSITIVE</td>\n",
       "    </tr>\n",
       "    <tr>\n",
       "      <th>4</th>\n",
       "      <td>el nino adalah pola iklim alami yang terkait d...</td>\n",
       "      <td>NEUTRAL</td>\n",
       "    </tr>\n",
       "    <tr>\n",
       "      <th>...</th>\n",
       "      <td>...</td>\n",
       "      <td>...</td>\n",
       "    </tr>\n",
       "    <tr>\n",
       "      <th>474</th>\n",
       "      <td>repost ketua bhayangkari cabang konawe daerah ...</td>\n",
       "      <td>POSITIVE</td>\n",
       "    </tr>\n",
       "    <tr>\n",
       "      <th>475</th>\n",
       "      <td>banjir macet dan polusi udara menjadi pekerjaa...</td>\n",
       "      <td>POSITIVE</td>\n",
       "    </tr>\n",
       "    <tr>\n",
       "      <th>476</th>\n",
       "      <td>seberapa aman dan murahkah pltn itu tentu saja...</td>\n",
       "      <td>NEGATIVE</td>\n",
       "    </tr>\n",
       "    <tr>\n",
       "      <th>477</th>\n",
       "      <td>sudah banyak aturannya tapi buang sampah semba...</td>\n",
       "      <td>NEGATIVE</td>\n",
       "    </tr>\n",
       "    <tr>\n",
       "      <th>478</th>\n",
       "      <td>jangan ambil mudah el nino yang dijangka berla...</td>\n",
       "      <td>NEGATIVE</td>\n",
       "    </tr>\n",
       "  </tbody>\n",
       "</table>\n",
       "<p>479 rows × 2 columns</p>\n",
       "</div>"
      ],
      "text/plain": [
       "                                                  text    labels\n",
       "0    selamat hari bumi internasional mari kita berk...  POSITIVE\n",
       "1    kapan lagi nih dengan hanya memilah sampah bis...  POSITIVE\n",
       "2    warga jakarta bagaimana testimoninya coba kome...   NEUTRAL\n",
       "3    hari lingkungan hidup sedunia ini sebagai mome...  POSITIVE\n",
       "4    el nino adalah pola iklim alami yang terkait d...   NEUTRAL\n",
       "..                                                 ...       ...\n",
       "474  repost ketua bhayangkari cabang konawe daerah ...  POSITIVE\n",
       "475  banjir macet dan polusi udara menjadi pekerjaa...  POSITIVE\n",
       "476  seberapa aman dan murahkah pltn itu tentu saja...  NEGATIVE\n",
       "477  sudah banyak aturannya tapi buang sampah semba...  NEGATIVE\n",
       "478  jangan ambil mudah el nino yang dijangka berla...  NEGATIVE\n",
       "\n",
       "[479 rows x 2 columns]"
      ]
     },
     "metadata": {},
     "output_type": "display_data"
    }
   ],
   "source": [
    "## Display experiment dataset\n",
    "print('train data:')\n",
    "display(train_data)\n",
    "print('\\nvalidation data:')\n",
    "display(validation_data)\n",
    "print('\\ntesting data:')\n",
    "display(test_data)"
   ]
  },
  {
   "cell_type": "code",
   "execution_count": 5,
   "id": "682764e7",
   "metadata": {},
   "outputs": [],
   "source": [
    "## Encode label in each dataset\n",
    "label_encoder = LabelEncoder()\n",
    "train_data[\"labels\"] = label_encoder.fit_transform(train_data[\"labels\"])\n",
    "validation_data[\"labels\"] = label_encoder.transform(validation_data[\"labels\"])\n",
    "test_data[\"labels\"] = label_encoder.fit_transform(test_data[\"labels\"])"
   ]
  },
  {
   "cell_type": "code",
   "execution_count": 6,
   "id": "4898a4f0",
   "metadata": {},
   "outputs": [
    {
     "data": {
      "text/plain": [
       "array(['NEGATIVE', 'NEUTRAL', 'POSITIVE'], dtype=object)"
      ]
     },
     "execution_count": 6,
     "metadata": {},
     "output_type": "execute_result"
    }
   ],
   "source": [
    "## Check label encoder\n",
    "label_encoder.inverse_transform(np.array([0,1,2]))"
   ]
  },
  {
   "cell_type": "code",
   "execution_count": 7,
   "id": "58c53926",
   "metadata": {},
   "outputs": [
    {
     "data": {
      "text/plain": [
       "array(['NEGATIVE', 'NEUTRAL', 'POSITIVE'], dtype=object)"
      ]
     },
     "execution_count": 7,
     "metadata": {},
     "output_type": "execute_result"
    }
   ],
   "source": [
    "## Check label encoder\n",
    "label_encoder.classes_"
   ]
  },
  {
   "cell_type": "code",
   "execution_count": 8,
   "id": "bd827c23",
   "metadata": {},
   "outputs": [
    {
     "name": "stdout",
     "output_type": "stream",
     "text": [
      "median:  81.0\n",
      "mean:  96.81164159581425\n",
      "\n",
      "histogram:\n"
     ]
    },
    {
     "data": {
      "image/png": "[encoded data removed]",
      "text/plain": [
       "<Figure size 640x480 with 1 Axes>"
      ]
     },
     "metadata": {},
     "output_type": "display_data"
    }
   ],
   "source": [
    "## Calculate average length and median of sentences in train_data\n",
    "df = train_data.copy()\n",
    "def calculate_length(param):\n",
    "    return len(param.split())\n",
    "df['length'] = df['text'].apply(calculate_length)\n",
    "print('median: ', df['length'].median())\n",
    "print('mean: ', df['length'].mean())\n",
    "\n",
    "## Histogram of sentence length in train_data\n",
    "print('\\nhistogram:')\n",
    "df['length'].hist()\n",
    "plt.show()"
   ]
  },
  {
   "cell_type": "code",
   "execution_count": 145,
   "id": "7b15b657",
   "metadata": {},
   "outputs": [
    {
     "name": "stderr",
     "output_type": "stream",
     "text": [
      "Some weights of BertForSequenceClassification were not initialized from the model checkpoint at indobenchmark/indobert-base-p2 and are newly initialized: ['classifier.bias', 'classifier.weight']\n",
      "You should probably TRAIN this model on a down-stream task to be able to use it for predictions and inference.\n",
      "/usr/local/lib/python3.10/dist-packages/transformers/tokenization_utils_base.py:1601: FutureWarning: `clean_up_tokenization_spaces` was not set. It will be set to `True` by default. This behavior will be depracted in transformers v4.45, and will be then set to `False` by default. For more details check this issue: https://github.com/huggingface/transformers/issues/31884\n",
      "  warnings.warn(\n"
     ]
    }
   ],
   "source": [
    "## Optional model configuration\n",
    "model_args = ClassificationArgs(num_train_epochs=3, train_batch_size=32, eval_batch_size=32, evaluate_during_training=True,\n",
    "                                learning_rate=4e-5, max_seq_length=128, output_dir='outputs_indobert_base/', \n",
    "                                best_model_dir='outputs_indobert_base/best_model',\n",
    "                                overwrite_output_dir= False, use_multiprocessing=False, \n",
    "                                use_multiprocessing_for_evaluation=False, no_cache=True)\n",
    "\n",
    "## Create a ClassificationModel\n",
    "model = ClassificationModel(\n",
    "    'bert',\n",
    "    'indobenchmark/indobert-base-p2',\n",
    "    num_labels=3,\n",
    "    args=model_args\n",
    ")"
   ]
  },
  {
   "cell_type": "code",
   "execution_count": 146,
   "id": "c65058d8",
   "metadata": {},
   "outputs": [
    {
     "data": {
      "application/vnd.jupyter.widget-view+json": {
       "model_id": "06aba11864b548a8b2662878bbffa90b",
       "version_major": 2,
       "version_minor": 0
      },
      "text/plain": [
       "Epoch:   0%|          | 0/3 [00:00<?, ?it/s]"
      ]
     },
     "metadata": {},
     "output_type": "display_data"
    },
    {
     "data": {
      "application/vnd.jupyter.widget-view+json": {
       "model_id": "43f66af867164ca8bb34a631e8c26917",
       "version_major": 2,
       "version_minor": 0
      },
      "text/plain": [
       "Running Epoch 1 of 3:   0%|          | 0/48 [00:00<?, ?it/s]"
      ]
     },
     "metadata": {},
     "output_type": "display_data"
    },
    {
     "data": {
      "application/vnd.jupyter.widget-view+json": {
       "model_id": "8ee96ca5fd6f4c36b19fa6c7eca95580",
       "version_major": 2,
       "version_minor": 0
      },
      "text/plain": [
       "Running Epoch 2 of 3:   0%|          | 0/48 [00:00<?, ?it/s]"
      ]
     },
     "metadata": {},
     "output_type": "display_data"
    },
    {
     "data": {
      "application/vnd.jupyter.widget-view+json": {
       "model_id": "a2826ff8bb8641eebb57efef12eef56a",
       "version_major": 2,
       "version_minor": 0
      },
      "text/plain": [
       "Running Epoch 3 of 3:   0%|          | 0/48 [00:00<?, ?it/s]"
      ]
     },
     "metadata": {},
     "output_type": "display_data"
    }
   ],
   "source": [
    "## Train classification model\n",
    "train_result = model.train_model(train_data, eval_df=validation_data)"
   ]
  },
  {
   "cell_type": "code",
   "execution_count": 18,
   "id": "d913e596",
   "metadata": {},
   "outputs": [],
   "source": [
    "## Use the best model from training results\n",
    "model = ClassificationModel(\n",
    "    \"bert\", 'outputs_indobert_base/best_model'\n",
    ")"
   ]
  },
  {
   "cell_type": "code",
   "execution_count": 19,
   "id": "106af8c6",
   "metadata": {},
   "outputs": [
    {
     "data": {
      "application/vnd.jupyter.widget-view+json": {
       "model_id": "6e7e86ad5fd54adeb8e28119b831f5be",
       "version_major": 2,
       "version_minor": 0
      },
      "text/plain": [
       "Running Evaluation:   0%|          | 0/15 [00:00<?, ?it/s]"
      ]
     },
     "metadata": {},
     "output_type": "display_data"
    }
   ],
   "source": [
    "## Evaluate the model on test_data\n",
    "def f1_multiclass(labels, preds):\n",
    "    return f1_score(labels, preds, average='macro')\n",
    "def precision_multiclass(labels, preds):\n",
    "    return precision_score(labels, preds, average='macro')\n",
    "def recall_multiclass(labels, preds):\n",
    "    return recall_score(labels, preds, average='macro')\n",
    "result, model_outputs, wrong_predictions = model.eval_model(test_data, f1=f1_multiclass, \n",
    "                                                            acc=accuracy_score, precision=precision_multiclass, \n",
    "                                                            recall=recall_multiclass)"
   ]
  },
  {
   "cell_type": "code",
   "execution_count": 20,
   "id": "828070e4",
   "metadata": {},
   "outputs": [
    {
     "name": "stdout",
     "output_type": "stream",
     "text": [
      "{'mcc': 0.6294810153753919, 'f1': 0.6849384381851914, 'acc': 0.7828810020876826, 'precision': 0.6916445035460992, 'recall': 0.683239362774753, 'eval_loss': 0.5683031797409057}\n"
     ]
    }
   ],
   "source": [
    "## Check result\n",
    "print(result)"
   ]
  },
  {
   "cell_type": "code",
   "execution_count": 21,
   "id": "652d1d42",
   "metadata": {},
   "outputs": [
    {
     "name": "stdout",
     "output_type": "stream",
     "text": [
      "Accuracy model on data test:  0.7828810020876826\n",
      "Precision model on data test:  0.6916445035460992\n",
      "Recall model on data test:  0.683239362774753\n",
      "F1 Score model on data test:  0.6849384381851914 \n",
      "\n",
      "Classification Report:\n",
      "               precision    recall  f1-score   support\n",
      "\n",
      "    NEGATIVE       0.77      0.86      0.81       171\n",
      "     NEUTRAL       0.45      0.36      0.40        58\n",
      "    POSITIVE       0.86      0.83      0.84       250\n",
      "\n",
      "    accuracy                           0.78       479\n",
      "   macro avg       0.69      0.68      0.68       479\n",
      "weighted avg       0.78      0.78      0.78       479\n",
      " \n",
      "\n"
     ]
    },
    {
     "data": {
      "image/png": "[encoded data removed]",
      "text/plain": [
       "<Figure size 640x480 with 2 Axes>"
      ]
     },
     "metadata": {},
     "output_type": "display_data"
    }
   ],
   "source": [
    "## Create confusion matrix with sklearn\n",
    "# Prepare true and prediction labels\n",
    "y_pred_prob = softmax(model_outputs, axis=1)\n",
    "y_pred = np.argmax(y_pred_prob,axis=1)\n",
    "y_true = np.array(test_data['labels'])\n",
    "# Print classification output\n",
    "print('Accuracy model on data test: ',accuracy_score(y_true, y_pred))\n",
    "print('Precision model on data test: ',precision_score(y_true, y_pred, average=\"macro\"))\n",
    "print('Recall model on data test: ',recall_score(y_true, y_pred, average=\"macro\"))\n",
    "print('F1 Score model on data test: ',f1_score(y_true, y_pred, average=\"macro\"), '\\n')\n",
    "# Print classification report\n",
    "print(\"Classification Report:\\n\", classification_report(y_true, y_pred, target_names=label_encoder.classes_), '\\n')\n",
    "# Plot confusion matrix\n",
    "cm = confusion_matrix(label_encoder.inverse_transform(y_true), label_encoder.inverse_transform(y_pred), \n",
    "                      labels=label_encoder.classes_)\n",
    "disp = ConfusionMatrixDisplay(confusion_matrix=cm, display_labels=label_encoder.classes_)\n",
    "disp.plot()\n",
    "plt.show()"
   ]
  },
  {
   "cell_type": "code",
   "execution_count": 23,
   "id": "00d2aab3",
   "metadata": {},
   "outputs": [
    {
     "data": {
      "image/png": "[encoded data removed]",
      "text/plain": [
       "<Figure size 700x500 with 2 Axes>"
      ]
     },
     "metadata": {},
     "output_type": "display_data"
    }
   ],
   "source": [
    "## Create confusion matrix with seaborn\n",
    "cm2 = cm.copy()\n",
    "cm2[2,:] = cm[0,:]\n",
    "cm2[0,:] = cm[2,:]\n",
    "f, ax = plt.subplots(figsize=(7, 5))\n",
    "label = np.array(['POSITIVE','NEUTRAL','NEGATIVE'])\n",
    "sns.heatmap(cm2, cmap='Blues', annot=True, fmt=\"d\", xticklabels=label[::-1], yticklabels=label)\n",
    "ax.set_title('IndoBERT-base-p2')\n",
    "ax.set_ylabel('True label')\n",
    "ax.set_xlabel('Predicted label')\n",
    "ax.xaxis.set_ticks_position('bottom')\n",
    "ax.xaxis.set_label_position('bottom')\n",
    "ax.set_yticklabels(ax.get_yticklabels(), rotation=0)\n",
    "plt.show()"
   ]
  },
  {
   "cell_type": "code",
   "execution_count": 24,
   "id": "fd5cea54",
   "metadata": {},
   "outputs": [
    {
     "data": {
      "application/vnd.jupyter.widget-view+json": {
       "model_id": "381f18de474b4003a2512d2f8b8402b8",
       "version_major": 2,
       "version_minor": 0
      },
      "text/plain": [
       "Running Evaluation:   0%|          | 0/48 [00:00<?, ?it/s]"
      ]
     },
     "metadata": {},
     "output_type": "display_data"
    },
    {
     "name": "stdout",
     "output_type": "stream",
     "text": [
      "{'mcc': 0.8677270778607579, 'f1': 0.8495520888160321, 'acc': 0.9228253760627861, 'precision': 0.900117092347954, 'recall': 0.8263251229889642, 'eval_loss': 0.232865189978232}\n"
     ]
    }
   ],
   "source": [
    "## Test the model on train_data\n",
    "result_train, model_outputs_train, wrong_predictions_train = model.eval_model(train_data, f1=f1_multiclass, \n",
    "                                                            acc=accuracy_score, precision=precision_multiclass, \n",
    "                                                            recall=recall_multiclass)\n",
    "print(result_train)"
   ]
  },
  {
   "cell_type": "code",
   "execution_count": 25,
   "id": "9f8a4239",
   "metadata": {},
   "outputs": [
    {
     "data": {
      "application/vnd.jupyter.widget-view+json": {
       "model_id": "5b6239f686ba4a2e86ecbb0e6eb1251a",
       "version_major": 2,
       "version_minor": 0
      },
      "text/plain": [
       "Running Evaluation:   0%|          | 0/12 [00:00<?, ?it/s]"
      ]
     },
     "metadata": {},
     "output_type": "display_data"
    },
    {
     "name": "stdout",
     "output_type": "stream",
     "text": [
      "{'mcc': 0.6910011658505089, 'f1': 0.6750187313569985, 'acc': 0.8224543080939948, 'precision': 0.6904465987240037, 'recall': 0.6741733574243023, 'eval_loss': 0.44087522228558856}\n"
     ]
    }
   ],
   "source": [
    "## Test the model on validation_data\n",
    "result_valid, model_outputs_valid, wrong_predictions_valid = model.eval_model(validation_data, f1=f1_multiclass, \n",
    "                                                            acc=accuracy_score, precision=precision_multiclass, \n",
    "                                                            recall=recall_multiclass)\n",
    "print(result_valid)"
   ]
  },
  {
   "cell_type": "code",
   "execution_count": 26,
   "id": "10549ff6",
   "metadata": {},
   "outputs": [
    {
     "data": {
      "text/html": [
       "<div>\n",
       "<style scoped>\n",
       "    .dataframe tbody tr th:only-of-type {\n",
       "        vertical-align: middle;\n",
       "    }\n",
       "\n",
       "    .dataframe tbody tr th {\n",
       "        vertical-align: top;\n",
       "    }\n",
       "\n",
       "    .dataframe thead th {\n",
       "        text-align: right;\n",
       "    }\n",
       "</style>\n",
       "<table border=\"1\" class=\"dataframe\">\n",
       "  <thead>\n",
       "    <tr style=\"text-align: right;\">\n",
       "      <th></th>\n",
       "      <th>id_shortcode</th>\n",
       "      <th>topic</th>\n",
       "      <th>text</th>\n",
       "      <th>text_clean</th>\n",
       "      <th>label</th>\n",
       "      <th>labels_prediction</th>\n",
       "    </tr>\n",
       "  </thead>\n",
       "  <tbody>\n",
       "    <tr>\n",
       "      <th>0</th>\n",
       "      <td>CrWCa-5vwsE</td>\n",
       "      <td>Climate change</td>\n",
       "      <td>🌿 Selamat Hari Bumi Internasional!\\n\\nMari kit...</td>\n",
       "      <td>selamat hari bumi internasional mari kita berk...</td>\n",
       "      <td>POSITIVE</td>\n",
       "      <td>POSITIVE</td>\n",
       "    </tr>\n",
       "    <tr>\n",
       "      <th>1</th>\n",
       "      <td>Cs5PpWISlMC</td>\n",
       "      <td>Waste</td>\n",
       "      <td>Kapan lagi nih dengan hanya memilah sampah bis...</td>\n",
       "      <td>kapan lagi nih dengan hanya memilah sampah bis...</td>\n",
       "      <td>POSITIVE</td>\n",
       "      <td>POSITIVE</td>\n",
       "    </tr>\n",
       "    <tr>\n",
       "      <th>2</th>\n",
       "      <td>Cfyk5nsvHea</td>\n",
       "      <td>Energy</td>\n",
       "      <td>Warga Jakarta gimana testimoninya? Coba komen ...</td>\n",
       "      <td>warga jakarta bagaimana testimoninya coba kome...</td>\n",
       "      <td>NEUTRAL</td>\n",
       "      <td>NEGATIVE</td>\n",
       "    </tr>\n",
       "    <tr>\n",
       "      <th>3</th>\n",
       "      <td>CtGphpxywpJ</td>\n",
       "      <td>Waste</td>\n",
       "      <td>Hari Lingkungan Hidup Sedunia ini sebagai mome...</td>\n",
       "      <td>hari lingkungan hidup sedunia ini sebagai mome...</td>\n",
       "      <td>POSITIVE</td>\n",
       "      <td>POSITIVE</td>\n",
       "    </tr>\n",
       "    <tr>\n",
       "      <th>4</th>\n",
       "      <td>Ct1QRF7p9MA</td>\n",
       "      <td>Climate change</td>\n",
       "      <td>El Nino adalah pola iklim alami yang terkait d...</td>\n",
       "      <td>el nino adalah pola iklim alami yang terkait d...</td>\n",
       "      <td>NEUTRAL</td>\n",
       "      <td>NEGATIVE</td>\n",
       "    </tr>\n",
       "    <tr>\n",
       "      <th>...</th>\n",
       "      <td>...</td>\n",
       "      <td>...</td>\n",
       "      <td>...</td>\n",
       "      <td>...</td>\n",
       "      <td>...</td>\n",
       "      <td>...</td>\n",
       "    </tr>\n",
       "    <tr>\n",
       "      <th>474</th>\n",
       "      <td>Ctf42dySp1Y</td>\n",
       "      <td>Environment</td>\n",
       "      <td>#Repost @bhayangkari_pc_konawe_sultra \\n\\nKetu...</td>\n",
       "      <td>repost ketua bhayangkari cabang konawe daerah ...</td>\n",
       "      <td>POSITIVE</td>\n",
       "      <td>POSITIVE</td>\n",
       "    </tr>\n",
       "    <tr>\n",
       "      <th>475</th>\n",
       "      <td>Cqd9BO4ySiB</td>\n",
       "      <td>Pollution</td>\n",
       "      <td>Banjir, Macet dan polusi udara menjadi PR warg...</td>\n",
       "      <td>banjir macet dan polusi udara menjadi pekerjaa...</td>\n",
       "      <td>POSITIVE</td>\n",
       "      <td>NEGATIVE</td>\n",
       "    </tr>\n",
       "    <tr>\n",
       "      <th>476</th>\n",
       "      <td>CsC_M1WvPc6</td>\n",
       "      <td>Energy</td>\n",
       "      <td>Seberapa aman dan murahkah PLTN itu? Tentu saj...</td>\n",
       "      <td>seberapa aman dan murahkah pltn itu tentu saja...</td>\n",
       "      <td>NEGATIVE</td>\n",
       "      <td>NEGATIVE</td>\n",
       "    </tr>\n",
       "    <tr>\n",
       "      <th>477</th>\n",
       "      <td>Ct-jH09vLMc</td>\n",
       "      <td>Environment</td>\n",
       "      <td>Sudah banyak aturannya, tapi buang sampah semb...</td>\n",
       "      <td>sudah banyak aturannya tapi buang sampah semba...</td>\n",
       "      <td>NEGATIVE</td>\n",
       "      <td>NEUTRAL</td>\n",
       "    </tr>\n",
       "    <tr>\n",
       "      <th>478</th>\n",
       "      <td>Cs9DwOjy3J6</td>\n",
       "      <td>Climate change</td>\n",
       "      <td>Jangan ambil mudah.\\n\\nEl Nino yang dijangka b...</td>\n",
       "      <td>jangan ambil mudah el nino yang dijangka berla...</td>\n",
       "      <td>NEGATIVE</td>\n",
       "      <td>NEGATIVE</td>\n",
       "    </tr>\n",
       "  </tbody>\n",
       "</table>\n",
       "<p>479 rows × 6 columns</p>\n",
       "</div>"
      ],
      "text/plain": [
       "    id_shortcode           topic  \\\n",
       "0    CrWCa-5vwsE  Climate change   \n",
       "1    Cs5PpWISlMC           Waste   \n",
       "2    Cfyk5nsvHea          Energy   \n",
       "3    CtGphpxywpJ           Waste   \n",
       "4    Ct1QRF7p9MA  Climate change   \n",
       "..           ...             ...   \n",
       "474  Ctf42dySp1Y     Environment   \n",
       "475  Cqd9BO4ySiB       Pollution   \n",
       "476  CsC_M1WvPc6          Energy   \n",
       "477  Ct-jH09vLMc     Environment   \n",
       "478  Cs9DwOjy3J6  Climate change   \n",
       "\n",
       "                                                  text  \\\n",
       "0    🌿 Selamat Hari Bumi Internasional!\\n\\nMari kit...   \n",
       "1    Kapan lagi nih dengan hanya memilah sampah bis...   \n",
       "2    Warga Jakarta gimana testimoninya? Coba komen ...   \n",
       "3    Hari Lingkungan Hidup Sedunia ini sebagai mome...   \n",
       "4    El Nino adalah pola iklim alami yang terkait d...   \n",
       "..                                                 ...   \n",
       "474  #Repost @bhayangkari_pc_konawe_sultra \\n\\nKetu...   \n",
       "475  Banjir, Macet dan polusi udara menjadi PR warg...   \n",
       "476  Seberapa aman dan murahkah PLTN itu? Tentu saj...   \n",
       "477  Sudah banyak aturannya, tapi buang sampah semb...   \n",
       "478  Jangan ambil mudah.\\n\\nEl Nino yang dijangka b...   \n",
       "\n",
       "                                            text_clean     label  \\\n",
       "0    selamat hari bumi internasional mari kita berk...  POSITIVE   \n",
       "1    kapan lagi nih dengan hanya memilah sampah bis...  POSITIVE   \n",
       "2    warga jakarta bagaimana testimoninya coba kome...   NEUTRAL   \n",
       "3    hari lingkungan hidup sedunia ini sebagai mome...  POSITIVE   \n",
       "4    el nino adalah pola iklim alami yang terkait d...   NEUTRAL   \n",
       "..                                                 ...       ...   \n",
       "474  repost ketua bhayangkari cabang konawe daerah ...  POSITIVE   \n",
       "475  banjir macet dan polusi udara menjadi pekerjaa...  POSITIVE   \n",
       "476  seberapa aman dan murahkah pltn itu tentu saja...  NEGATIVE   \n",
       "477  sudah banyak aturannya tapi buang sampah semba...  NEGATIVE   \n",
       "478  jangan ambil mudah el nino yang dijangka berla...  NEGATIVE   \n",
       "\n",
       "    labels_prediction  \n",
       "0            POSITIVE  \n",
       "1            POSITIVE  \n",
       "2            NEGATIVE  \n",
       "3            POSITIVE  \n",
       "4            NEGATIVE  \n",
       "..                ...  \n",
       "474          POSITIVE  \n",
       "475          NEGATIVE  \n",
       "476          NEGATIVE  \n",
       "477           NEUTRAL  \n",
       "478          NEGATIVE  \n",
       "\n",
       "[479 rows x 6 columns]"
      ]
     },
     "metadata": {},
     "output_type": "display_data"
    }
   ],
   "source": [
    "## save predictions on test_data in csv file\n",
    "test['labels_prediction'] = label_encoder.inverse_transform(y_pred)\n",
    "display(test)\n",
    "test.to_excel(r'christoferoctovianto/id-sa-in-ne/result/masked_prediction_indobertbase.xlsx', index=False)"
   ]
  }
 ],
 "metadata": {
  "kernelspec": {
   "display_name": "Python 3 (ipykernel)",
   "language": "python",
   "name": "python3"
  },
  "language_info": {
   "codemirror_mode": {
    "name": "ipython",
    "version": 3
   },
   "file_extension": ".py",
   "mimetype": "text/x-python",
   "name": "python",
   "nbconvert_exporter": "python",
   "pygments_lexer": "ipython3",
   "version": "3.10.12"
  }
 },
 "nbformat": 4,
 "nbformat_minor": 5
}
